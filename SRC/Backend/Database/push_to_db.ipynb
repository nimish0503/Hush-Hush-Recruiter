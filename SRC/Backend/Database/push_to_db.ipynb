{
 "cells": [
  {
   "cell_type": "code",
   "execution_count": null,
   "metadata": {},
   "outputs": [
    {
     "name": "stdout",
     "output_type": "stream",
     "text": [
      "Data successfully inserted into the database.\n"
     ]
    }
   ],
   "source": [
    "'''This script inserts candidate data from a CSV file into a MySQL database:\n",
    "\n",
    "1. Connects to a MySQL database using SQLAlchemy and PyMySQL.  \n",
    "2. Defines the \"Candidate\" table structure with relevant columns.  \n",
    "3. Creates the table if it doesnt already exist.  \n",
    "4. Reads the candidate data from a CSV file.  \n",
    "5. Ensures column names match the database schema.  \n",
    "6. Inserts the data into the database.  \n",
    "7. Confirms successful insertion with a message.'''\n",
    "\n",
    "import pandas as pd\n",
    "from sqlalchemy import create_engine, Column, Integer, String, Float, MetaData, Table, VARCHAR\n",
    "import pymysql\n",
    "\n",
    "host = \"35.246.172.147\"\n",
    "user = \"root\"\n",
    "password = \"12345\"\n",
    "database = \"psanatics\"\n",
    "table_name = \"Candidate\"\n",
    "\n",
    "engine = create_engine(f\"mysql+pymysql://{user}:{password}@{host}/{database}\")\n",
    "\n",
    "metadata = MetaData()\n",
    "\n",
    "users_table = Table(\n",
    "    table_name, metadata,\n",
    "    Column(\"id\", Integer, primary_key=True, autoincrement=True),\n",
    "    Column(\"username\", String(255), nullable=False),\n",
    "    Column(\"job_role\", String(255), nullable=False),\n",
    "    Column(\"email\", String(255), nullable=False, unique=True),\n",
    "    Column(\"user_url\", String(500)),\n",
    "    Column(\"avatar_url\", String(500)),\n",
    "    Column(\"public_repos\", Integer),\n",
    "    Column(\"followers\", Integer),\n",
    "    Column(\"total_stars\", Integer),\n",
    "    Column(\"total_forks\", Integer),\n",
    "    Column(\"total_pr_merged\", Integer),\n",
    "    Column(\"total_issues_opened\", Integer),\n",
    "    Column(\"total_issues_closed\", Integer),\n",
    "    Column(\"total_commits_last_year\", Integer),\n",
    "    Column(\"total_commits_all_time\", Integer),\n",
    "    Column(\"avg_commits_per_month\", Float),\n",
    "    Column(\"avg_issue_close_time\", Float),\n",
    "    Column(\"contributed_repos\", Integer),\n",
    "    Column(\"code_reviews_count\", Integer),\n",
    "    Column(\"commit_score\", Float),\n",
    "    Column(\"feature_1\", Integer),\n",
    "    Column(\"feature_2\", Integer),\n",
    "    Column(\"feature_3\", Integer),\n",
    "    Column(\"predicted_quality\", String(255)),\n",
    "    Column(\"quality_rank\", Integer),\n",
    "    Column(\"score\", Float),\n",
    "    extend_existing=True\n",
    ")\n",
    "\n",
    "metadata.create_all(engine)\n",
    "\n",
    "csv_file = \"/home/ashwin_jayan/EXTRACT/ML_Model/Files/best_candidates_per_role.csv\"\n",
    "df = pd.read_csv(csv_file)\n",
    "\n",
    "df.rename(columns={'job role': 'job_role'}, inplace=True)\n",
    "\n",
    "df.to_sql(table_name, con=engine, if_exists=\"append\", index=False)\n",
    "\n",
    "print(\"Data successfully inserted into the database.\")\n"
   ]
  }
 ],
 "metadata": {
  "kernelspec": {
   "display_name": "Python 3",
   "language": "python",
   "name": "python3"
  },
  "language_info": {
   "codemirror_mode": {
    "name": "ipython",
    "version": 3
   },
   "file_extension": ".py",
   "mimetype": "text/x-python",
   "name": "python",
   "nbconvert_exporter": "python",
   "pygments_lexer": "ipython3",
   "version": "3.10.12"
  }
 },
 "nbformat": 4,
 "nbformat_minor": 2
}
